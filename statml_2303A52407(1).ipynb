{
  "nbformat": 4,
  "nbformat_minor": 0,
  "metadata": {
    "colab": {
      "provenance": []
    },
    "kernelspec": {
      "name": "python3",
      "display_name": "Python 3"
    },
    "language_info": {
      "name": "python"
    }
  },
  "cells": [
    {
      "cell_type": "code",
      "execution_count": 3,
      "metadata": {
        "colab": {
          "base_uri": "https://localhost:8080/",
          "height": 447
        },
        "id": "u2qtxd09Vxit",
        "outputId": "22a6c178-f853-4ee8-f1e3-552efdee7507"
      },
      "outputs": [
        {
          "output_type": "stream",
          "name": "stdout",
          "text": [
            "(array([2., 3., 2., 2., 1.]), array([2.3 , 2.56, 2.82, 3.08, 3.34, 3.6 ]), <BarContainer object of 5 artists>)\n"
          ]
        },
        {
          "output_type": "display_data",
          "data": {
            "text/plain": [
              "<Figure size 640x480 with 1 Axes>"
            ],
            "image/png": "[encoded data removed]"
          },
          "metadata": {}
        }
      ],
      "source": [
        "import numpy as np\n",
        "import matplotlib.pyplot as plt\n",
        "a=np.array([2.3,2.5,3.6,2.8,3.1,2.9,3.2,2.7,2.8,3.0])\n",
        "b=5\n",
        "k1=plt.hist(a,b)\n",
        "plt.show\n",
        "print(k1)"
      ]
    },
    {
      "cell_type": "code",
      "source": [
        "\n",
        "S=[1,2,3,4,5]\n",
        "h=[2,3,4,5,6]\n",
        "f=S+h\n",
        "print(f)\n",
        ""
      ],
      "metadata": {
        "colab": {
          "base_uri": "https://localhost:8080/"
        },
        "id": "D3lrF0ITWsFE",
        "outputId": "b030d6bd-f5e1-4bfd-c170-53c2f224b05e"
      },
      "execution_count": 6,
      "outputs": [
        {
          "output_type": "stream",
          "name": "stdout",
          "text": [
            "[1, 2, 3, 4, 5, 2, 3, 4, 5, 6]\n"
          ]
        }
      ]
    },
    {
      "cell_type": "code",
      "source": [
        "import numpy as np\n",
        "a=np.array(S)\n",
        "b=np.array(h)\n",
        "print(a+b)"
      ],
      "metadata": {
        "colab": {
          "base_uri": "https://localhost:8080/"
        },
        "id": "6XwB-B7jXBw3",
        "outputId": "e243e3ff-d512-4685-8686-df7d3ec823db"
      },
      "execution_count": 8,
      "outputs": [
        {
          "output_type": "stream",
          "name": "stdout",
          "text": [
            "[ 3  5  7  9 11]\n"
          ]
        }
      ]
    },
    {
      "cell_type": "code",
      "source": [
        "print(np.mean(a))\n",
        "print(np.median(a))\n",
        "print(np.std(a))\n",
        "print(np.var(a))\n",
        "print(np.ptp(a))\n",
        ""
      ],
      "metadata": {
        "colab": {
          "base_uri": "https://localhost:8080/"
        },
        "id": "m6YYBcuCXFWT",
        "outputId": "eef4c704-cb3b-4336-abc4-626c7da99ae8"
      },
      "execution_count": 9,
      "outputs": [
        {
          "output_type": "stream",
          "name": "stdout",
          "text": [
            "3.0\n",
            "3.0\n",
            "1.4142135623730951\n",
            "2.0\n",
            "4\n"
          ]
        }
      ]
    },
    {
      "cell_type": "code",
      "source": [
        "import pandas as pd\n",
        "data=pd.read_csv(\"/content/business-financial-data-march-2024.zip\")\n",
        "print(data)"
      ],
      "metadata": {
        "colab": {
          "base_uri": "https://localhost:8080/"
        },
        "id": "R452Yh6tXX3b",
        "outputId": "6dfbf822-eb3a-4e9f-f614-5e36cd250d64"
      },
      "execution_count": 11,
      "outputs": [
        {
          "output_type": "stream",
          "name": "stdout",
          "text": [
            "     Series_reference   Period  Data_value Suppressed STATUS    UNITS  \\\n",
            "0       BDCQ.SF1AA2CA  2016.06    1116.386        NaN      F  Dollars   \n",
            "1       BDCQ.SF1AA2CA  2016.09    1070.874        NaN      F  Dollars   \n",
            "2       BDCQ.SF1AA2CA  2016.12    1054.408        NaN      F  Dollars   \n",
            "3       BDCQ.SF1AA2CA  2017.03    1010.665        NaN      F  Dollars   \n",
            "4       BDCQ.SF1AA2CA  2017.06    1233.700        NaN      F  Dollars   \n",
            "...               ...      ...         ...        ...    ...      ...   \n",
            "7630     BDCQ.SF8RSCA  2023.03     663.630        NaN      F  Dollars   \n",
            "7631     BDCQ.SF8RSCA  2023.06     617.507        NaN      F  Dollars   \n",
            "7632     BDCQ.SF8RSCA  2023.09     673.068        NaN      F  Dollars   \n",
            "7633     BDCQ.SF8RSCA  2023.12     511.098        NaN      F  Dollars   \n",
            "7634     BDCQ.SF8RSCA  2024.03     631.229        NaN      F  Dollars   \n",
            "\n",
            "      Magnitude                         Subject  \\\n",
            "0             6  Business Data Collection - BDC   \n",
            "1             6  Business Data Collection - BDC   \n",
            "2             6  Business Data Collection - BDC   \n",
            "3             6  Business Data Collection - BDC   \n",
            "4             6  Business Data Collection - BDC   \n",
            "...         ...                             ...   \n",
            "7630          6  Business Data Collection - BDC   \n",
            "7631          6  Business Data Collection - BDC   \n",
            "7632          6  Business Data Collection - BDC   \n",
            "7633          6  Business Data Collection - BDC   \n",
            "7634          6  Business Data Collection - BDC   \n",
            "\n",
            "                                                Group  \\\n",
            "0     Industry by financial variable (NZSIOC Level 2)   \n",
            "1     Industry by financial variable (NZSIOC Level 2)   \n",
            "2     Industry by financial variable (NZSIOC Level 2)   \n",
            "3     Industry by financial variable (NZSIOC Level 2)   \n",
            "4     Industry by financial variable (NZSIOC Level 2)   \n",
            "...                                               ...   \n",
            "7630  Industry by financial variable (NZSIOC Level 1)   \n",
            "7631  Industry by financial variable (NZSIOC Level 1)   \n",
            "7632  Industry by financial variable (NZSIOC Level 1)   \n",
            "7633  Industry by financial variable (NZSIOC Level 1)   \n",
            "7634  Industry by financial variable (NZSIOC Level 1)   \n",
            "\n",
            "                Series_title_1                       Series_title_2  \\\n",
            "0     Sales (operating income)                 Forestry and Logging   \n",
            "1     Sales (operating income)                 Forestry and Logging   \n",
            "2     Sales (operating income)                 Forestry and Logging   \n",
            "3     Sales (operating income)                 Forestry and Logging   \n",
            "4     Sales (operating income)                 Forestry and Logging   \n",
            "...                        ...                                  ...   \n",
            "7630          Operating profit  Arts, Recreation and Other Services   \n",
            "7631          Operating profit  Arts, Recreation and Other Services   \n",
            "7632          Operating profit  Arts, Recreation and Other Services   \n",
            "7633          Operating profit  Arts, Recreation and Other Services   \n",
            "7634          Operating profit  Arts, Recreation and Other Services   \n",
            "\n",
            "      Series_title_3 Series_title_4  Series_title_5  \n",
            "0     Current prices     Unadjusted             NaN  \n",
            "1     Current prices     Unadjusted             NaN  \n",
            "2     Current prices     Unadjusted             NaN  \n",
            "3     Current prices     Unadjusted             NaN  \n",
            "4     Current prices     Unadjusted             NaN  \n",
            "...              ...            ...             ...  \n",
            "7630         Current     Unadjusted             NaN  \n",
            "7631         Current     Unadjusted             NaN  \n",
            "7632         Current     Unadjusted             NaN  \n",
            "7633         Current     Unadjusted             NaN  \n",
            "7634         Current     Unadjusted             NaN  \n",
            "\n",
            "[7635 rows x 14 columns]\n"
          ]
        }
      ]
    }
  ]
}